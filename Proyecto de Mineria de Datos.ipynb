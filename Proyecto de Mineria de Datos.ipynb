{
 "cells": [
  {
   "cell_type": "markdown",
   "metadata": {},
   "source": [
    "* Mauricio Hernández López\n",
    "* Bárbara García Quiroga"
   ]
  },
  {
   "cell_type": "markdown",
   "metadata": {},
   "source": [
    "# Lectura de los datos e importación de los paquetes necesarios"
   ]
  },
  {
   "cell_type": "code",
   "execution_count": 92,
   "metadata": {},
   "outputs": [],
   "source": [
    "import numpy as np\n",
    "import pandas as pd\n",
    "import matplotlib.pyplot as plt\n",
    "import warnings\n",
    "import seaborn as sns\n",
    "warnings.filterwarnings('ignore')\n",
    "from sklearn.neural_network import MLPClassifier\n",
    "from sklearn.neighbors import KNeighborsClassifier\n",
    "from sklearn.svm import SVC\n",
    "from sklearn.tree import DecisionTreeClassifier\n",
    "from sklearn.naive_bayes import GaussianNB\n",
    "from sklearn import tree\n",
    "from sklearn.model_selection import train_test_split\n",
    "from sklearn import metrics"
   ]
  },
  {
   "cell_type": "code",
   "execution_count": 54,
   "metadata": {},
   "outputs": [
    {
     "data": {
      "text/html": [
       "<div>\n",
       "<style scoped>\n",
       "    .dataframe tbody tr th:only-of-type {\n",
       "        vertical-align: middle;\n",
       "    }\n",
       "\n",
       "    .dataframe tbody tr th {\n",
       "        vertical-align: top;\n",
       "    }\n",
       "\n",
       "    .dataframe thead th {\n",
       "        text-align: right;\n",
       "    }\n",
       "</style>\n",
       "<table border=\"1\" class=\"dataframe\">\n",
       "  <thead>\n",
       "    <tr style=\"text-align: right;\">\n",
       "      <th></th>\n",
       "      <th>id</th>\n",
       "      <th>FECHA_ARCHIVO</th>\n",
       "      <th>ID_REGISTRO</th>\n",
       "      <th>ENTIDAD_UM</th>\n",
       "      <th>ENTIDAD_RES</th>\n",
       "      <th>RESULTADO</th>\n",
       "      <th>DELAY</th>\n",
       "      <th>ENTIDAD_REGISTRO</th>\n",
       "      <th>ENTIDAD</th>\n",
       "      <th>ABR_ENT</th>\n",
       "      <th>...</th>\n",
       "      <th>OTRA_COM</th>\n",
       "      <th>CARDIOVASCULAR</th>\n",
       "      <th>OBESIDAD</th>\n",
       "      <th>RENAL_CRONICA</th>\n",
       "      <th>TABAQUISMO</th>\n",
       "      <th>OTRO_CASO</th>\n",
       "      <th>MIGRANTE</th>\n",
       "      <th>PAIS_NACIONALIDAD</th>\n",
       "      <th>PAIS_ORIGEN</th>\n",
       "      <th>UCI</th>\n",
       "    </tr>\n",
       "  </thead>\n",
       "  <tbody>\n",
       "    <tr>\n",
       "      <th>0</th>\n",
       "      <td>9269</td>\n",
       "      <td>2020-04-12</td>\n",
       "      <td>00011f</td>\n",
       "      <td>25</td>\n",
       "      <td>25</td>\n",
       "      <td>2</td>\n",
       "      <td>0</td>\n",
       "      <td>25</td>\n",
       "      <td>Sinaloa</td>\n",
       "      <td>SL</td>\n",
       "      <td>...</td>\n",
       "      <td>2</td>\n",
       "      <td>2</td>\n",
       "      <td>1</td>\n",
       "      <td>2</td>\n",
       "      <td>2</td>\n",
       "      <td>2</td>\n",
       "      <td>99</td>\n",
       "      <td>MÃ©xico</td>\n",
       "      <td>97</td>\n",
       "      <td>97</td>\n",
       "    </tr>\n",
       "    <tr>\n",
       "      <th>1</th>\n",
       "      <td>33333</td>\n",
       "      <td>2020-04-12</td>\n",
       "      <td>00014e</td>\n",
       "      <td>14</td>\n",
       "      <td>14</td>\n",
       "      <td>2</td>\n",
       "      <td>0</td>\n",
       "      <td>14</td>\n",
       "      <td>Jalisco</td>\n",
       "      <td>JC</td>\n",
       "      <td>...</td>\n",
       "      <td>2</td>\n",
       "      <td>2</td>\n",
       "      <td>1</td>\n",
       "      <td>2</td>\n",
       "      <td>1</td>\n",
       "      <td>99</td>\n",
       "      <td>99</td>\n",
       "      <td>MÃ©xico</td>\n",
       "      <td>97</td>\n",
       "      <td>2</td>\n",
       "    </tr>\n",
       "    <tr>\n",
       "      <th>2</th>\n",
       "      <td>35483</td>\n",
       "      <td>2020-04-12</td>\n",
       "      <td>000153</td>\n",
       "      <td>8</td>\n",
       "      <td>8</td>\n",
       "      <td>1</td>\n",
       "      <td>0</td>\n",
       "      <td>8</td>\n",
       "      <td>Chihuahua</td>\n",
       "      <td>CH</td>\n",
       "      <td>...</td>\n",
       "      <td>2</td>\n",
       "      <td>2</td>\n",
       "      <td>2</td>\n",
       "      <td>2</td>\n",
       "      <td>2</td>\n",
       "      <td>99</td>\n",
       "      <td>99</td>\n",
       "      <td>MÃ©xico</td>\n",
       "      <td>97</td>\n",
       "      <td>2</td>\n",
       "    </tr>\n",
       "    <tr>\n",
       "      <th>3</th>\n",
       "      <td>7062</td>\n",
       "      <td>2020-04-12</td>\n",
       "      <td>0001b6</td>\n",
       "      <td>9</td>\n",
       "      <td>15</td>\n",
       "      <td>1</td>\n",
       "      <td>0</td>\n",
       "      <td>9</td>\n",
       "      <td>Ciudad de Mexico</td>\n",
       "      <td>DF</td>\n",
       "      <td>...</td>\n",
       "      <td>2</td>\n",
       "      <td>2</td>\n",
       "      <td>1</td>\n",
       "      <td>2</td>\n",
       "      <td>2</td>\n",
       "      <td>99</td>\n",
       "      <td>99</td>\n",
       "      <td>MÃ©xico</td>\n",
       "      <td>97</td>\n",
       "      <td>97</td>\n",
       "    </tr>\n",
       "    <tr>\n",
       "      <th>4</th>\n",
       "      <td>23745</td>\n",
       "      <td>2020-04-12</td>\n",
       "      <td>0001c1</td>\n",
       "      <td>9</td>\n",
       "      <td>9</td>\n",
       "      <td>2</td>\n",
       "      <td>0</td>\n",
       "      <td>9</td>\n",
       "      <td>Ciudad de Mexico</td>\n",
       "      <td>DF</td>\n",
       "      <td>...</td>\n",
       "      <td>2</td>\n",
       "      <td>2</td>\n",
       "      <td>2</td>\n",
       "      <td>2</td>\n",
       "      <td>2</td>\n",
       "      <td>99</td>\n",
       "      <td>99</td>\n",
       "      <td>MÃ©xico</td>\n",
       "      <td>97</td>\n",
       "      <td>97</td>\n",
       "    </tr>\n",
       "    <tr>\n",
       "      <th>...</th>\n",
       "      <td>...</td>\n",
       "      <td>...</td>\n",
       "      <td>...</td>\n",
       "      <td>...</td>\n",
       "      <td>...</td>\n",
       "      <td>...</td>\n",
       "      <td>...</td>\n",
       "      <td>...</td>\n",
       "      <td>...</td>\n",
       "      <td>...</td>\n",
       "      <td>...</td>\n",
       "      <td>...</td>\n",
       "      <td>...</td>\n",
       "      <td>...</td>\n",
       "      <td>...</td>\n",
       "      <td>...</td>\n",
       "      <td>...</td>\n",
       "      <td>...</td>\n",
       "      <td>...</td>\n",
       "      <td>...</td>\n",
       "      <td>...</td>\n",
       "    </tr>\n",
       "    <tr>\n",
       "      <th>263002</th>\n",
       "      <td>7094887</td>\n",
       "      <td>2020-06-03</td>\n",
       "      <td>1e019c</td>\n",
       "      <td>32</td>\n",
       "      <td>32</td>\n",
       "      <td>1</td>\n",
       "      <td>0</td>\n",
       "      <td>32</td>\n",
       "      <td>Zacatecas</td>\n",
       "      <td>ZS</td>\n",
       "      <td>...</td>\n",
       "      <td>2</td>\n",
       "      <td>2</td>\n",
       "      <td>2</td>\n",
       "      <td>2</td>\n",
       "      <td>2</td>\n",
       "      <td>1</td>\n",
       "      <td>99</td>\n",
       "      <td>MÃ©xico</td>\n",
       "      <td>99</td>\n",
       "      <td>97</td>\n",
       "    </tr>\n",
       "    <tr>\n",
       "      <th>263003</th>\n",
       "      <td>7053721</td>\n",
       "      <td>2020-06-03</td>\n",
       "      <td>1e2b05</td>\n",
       "      <td>12</td>\n",
       "      <td>12</td>\n",
       "      <td>1</td>\n",
       "      <td>0</td>\n",
       "      <td>12</td>\n",
       "      <td>Guerrero</td>\n",
       "      <td>GR</td>\n",
       "      <td>...</td>\n",
       "      <td>2</td>\n",
       "      <td>2</td>\n",
       "      <td>1</td>\n",
       "      <td>2</td>\n",
       "      <td>2</td>\n",
       "      <td>99</td>\n",
       "      <td>99</td>\n",
       "      <td>MÃ©xico</td>\n",
       "      <td>99</td>\n",
       "      <td>2</td>\n",
       "    </tr>\n",
       "    <tr>\n",
       "      <th>263004</th>\n",
       "      <td>7055429</td>\n",
       "      <td>2020-06-03</td>\n",
       "      <td>1e473f</td>\n",
       "      <td>20</td>\n",
       "      <td>20</td>\n",
       "      <td>1</td>\n",
       "      <td>0</td>\n",
       "      <td>20</td>\n",
       "      <td>Oaxaca</td>\n",
       "      <td>OC</td>\n",
       "      <td>...</td>\n",
       "      <td>2</td>\n",
       "      <td>2</td>\n",
       "      <td>2</td>\n",
       "      <td>1</td>\n",
       "      <td>2</td>\n",
       "      <td>99</td>\n",
       "      <td>99</td>\n",
       "      <td>MÃ©xico</td>\n",
       "      <td>99</td>\n",
       "      <td>2</td>\n",
       "    </tr>\n",
       "    <tr>\n",
       "      <th>263005</th>\n",
       "      <td>7043768</td>\n",
       "      <td>2020-06-03</td>\n",
       "      <td>1e6da1</td>\n",
       "      <td>13</td>\n",
       "      <td>13</td>\n",
       "      <td>1</td>\n",
       "      <td>0</td>\n",
       "      <td>13</td>\n",
       "      <td>Hidalgo</td>\n",
       "      <td>HG</td>\n",
       "      <td>...</td>\n",
       "      <td>2</td>\n",
       "      <td>2</td>\n",
       "      <td>2</td>\n",
       "      <td>2</td>\n",
       "      <td>2</td>\n",
       "      <td>2</td>\n",
       "      <td>99</td>\n",
       "      <td>MÃ©xico</td>\n",
       "      <td>99</td>\n",
       "      <td>2</td>\n",
       "    </tr>\n",
       "    <tr>\n",
       "      <th>263006</th>\n",
       "      <td>7093277</td>\n",
       "      <td>2020-06-03</td>\n",
       "      <td>1e8453</td>\n",
       "      <td>9</td>\n",
       "      <td>9</td>\n",
       "      <td>1</td>\n",
       "      <td>0</td>\n",
       "      <td>9</td>\n",
       "      <td>Ciudad de Mexico</td>\n",
       "      <td>DF</td>\n",
       "      <td>...</td>\n",
       "      <td>2</td>\n",
       "      <td>2</td>\n",
       "      <td>2</td>\n",
       "      <td>2</td>\n",
       "      <td>2</td>\n",
       "      <td>2</td>\n",
       "      <td>99</td>\n",
       "      <td>MÃ©xico</td>\n",
       "      <td>99</td>\n",
       "      <td>97</td>\n",
       "    </tr>\n",
       "  </tbody>\n",
       "</table>\n",
       "<p>263007 rows × 41 columns</p>\n",
       "</div>"
      ],
      "text/plain": [
       "             id FECHA_ARCHIVO ID_REGISTRO  ENTIDAD_UM  ENTIDAD_RES  RESULTADO  \\\n",
       "0          9269    2020-04-12      00011f          25           25          2   \n",
       "1         33333    2020-04-12      00014e          14           14          2   \n",
       "2         35483    2020-04-12      000153           8            8          1   \n",
       "3          7062    2020-04-12      0001b6           9           15          1   \n",
       "4         23745    2020-04-12      0001c1           9            9          2   \n",
       "...         ...           ...         ...         ...          ...        ...   \n",
       "263002  7094887    2020-06-03      1e019c          32           32          1   \n",
       "263003  7053721    2020-06-03      1e2b05          12           12          1   \n",
       "263004  7055429    2020-06-03      1e473f          20           20          1   \n",
       "263005  7043768    2020-06-03      1e6da1          13           13          1   \n",
       "263006  7093277    2020-06-03      1e8453           9            9          1   \n",
       "\n",
       "        DELAY  ENTIDAD_REGISTRO           ENTIDAD ABR_ENT  ... OTRA_COM  \\\n",
       "0           0                25           Sinaloa      SL  ...        2   \n",
       "1           0                14           Jalisco      JC  ...        2   \n",
       "2           0                 8         Chihuahua      CH  ...        2   \n",
       "3           0                 9  Ciudad de Mexico      DF  ...        2   \n",
       "4           0                 9  Ciudad de Mexico      DF  ...        2   \n",
       "...       ...               ...               ...     ...  ...      ...   \n",
       "263002      0                32         Zacatecas      ZS  ...        2   \n",
       "263003      0                12          Guerrero      GR  ...        2   \n",
       "263004      0                20            Oaxaca      OC  ...        2   \n",
       "263005      0                13           Hidalgo      HG  ...        2   \n",
       "263006      0                 9  Ciudad de Mexico      DF  ...        2   \n",
       "\n",
       "        CARDIOVASCULAR  OBESIDAD  RENAL_CRONICA  TABAQUISMO  OTRO_CASO  \\\n",
       "0                    2         1              2           2          2   \n",
       "1                    2         1              2           1         99   \n",
       "2                    2         2              2           2         99   \n",
       "3                    2         1              2           2         99   \n",
       "4                    2         2              2           2         99   \n",
       "...                ...       ...            ...         ...        ...   \n",
       "263002               2         2              2           2          1   \n",
       "263003               2         1              2           2         99   \n",
       "263004               2         2              1           2         99   \n",
       "263005               2         2              2           2          2   \n",
       "263006               2         2              2           2          2   \n",
       "\n",
       "        MIGRANTE PAIS_NACIONALIDAD PAIS_ORIGEN UCI  \n",
       "0             99           MÃ©xico          97  97  \n",
       "1             99           MÃ©xico          97   2  \n",
       "2             99           MÃ©xico          97   2  \n",
       "3             99           MÃ©xico          97  97  \n",
       "4             99           MÃ©xico          97  97  \n",
       "...          ...               ...         ...  ..  \n",
       "263002        99           MÃ©xico          99  97  \n",
       "263003        99           MÃ©xico          99   2  \n",
       "263004        99           MÃ©xico          99   2  \n",
       "263005        99           MÃ©xico          99   2  \n",
       "263006        99           MÃ©xico          99  97  \n",
       "\n",
       "[263007 rows x 41 columns]"
      ]
     },
     "execution_count": 54,
     "metadata": {},
     "output_type": "execute_result"
    }
   ],
   "source": [
    "df = pd.read_csv('mexico_covid19.csv')\n",
    "df"
   ]
  },
  {
   "cell_type": "code",
   "execution_count": 55,
   "metadata": {},
   "outputs": [
    {
     "data": {
      "text/plain": [
       "Index(['id', 'FECHA_ARCHIVO', 'ID_REGISTRO', 'ENTIDAD_UM', 'ENTIDAD_RES',\n",
       "       'RESULTADO', 'DELAY', 'ENTIDAD_REGISTRO', 'ENTIDAD', 'ABR_ENT',\n",
       "       'FECHA_ACTUALIZACION', 'ORIGEN', 'SECTOR', 'SEXO', 'ENTIDAD_NAC',\n",
       "       'MUNICIPIO_RES', 'TIPO_PACIENTE', 'FECHA_INGRESO', 'FECHA_SINTOMAS',\n",
       "       'FECHA_DEF', 'INTUBADO', 'NEUMONIA', 'EDAD', 'NACIONALIDAD', 'EMBARAZO',\n",
       "       'HABLA_LENGUA_INDIG', 'DIABETES', 'EPOC', 'ASMA', 'INMUSUPR',\n",
       "       'HIPERTENSION', 'OTRA_COM', 'CARDIOVASCULAR', 'OBESIDAD',\n",
       "       'RENAL_CRONICA', 'TABAQUISMO', 'OTRO_CASO', 'MIGRANTE',\n",
       "       'PAIS_NACIONALIDAD', 'PAIS_ORIGEN', 'UCI'],\n",
       "      dtype='object')"
      ]
     },
     "execution_count": 55,
     "metadata": {},
     "output_type": "execute_result"
    }
   ],
   "source": [
    "df.columns"
   ]
  },
  {
   "cell_type": "markdown",
   "metadata": {},
   "source": [
    "# Introducción"
   ]
  },
  {
   "cell_type": "markdown",
   "metadata": {},
   "source": [
    "La base de datos escogida para realizar este proyecto es la de Datos Clínicos de COVID-19 en México. La cual incluye información detallada sobre pacientes a los cuales se les aplicó la prueba PCR para saber si estaban contagiados o no del virus SARS CoV-2, el cual ha afectado a casi 140 millones de personas alrededor del mundo.\n",
    "\n",
    "Entre los datos, se incluye información sobre las comorbilidades que podría padecer cada uno de los pacientes (como asma o enfermedades cardiovasculares), su estado de residencia, el estado donde le fueron hechas las pruebas, la fecha en la que presentaron los síntomas, la fecha del diagnóstico, e incluso la fecha de fallecimiento (si es que hay alguna disponible). \n",
    "\n",
    "El objetivo principal de este proyecto es el de entrenar una serie de modelos estadísticos que sean capaces de predecir en base a algunas características si es que una persona está contagiada o no del virus, por lo que, eventualmente, nuestra variable \"target\" u objetivo, será la columna de $['RESULTADO']$. Los datos serán limpiados y reorganizados a nuestra conveniencia como paso previo, pues hay que descartar una buena cantidad de datos que no son reelevantes para el análisis, entre otros ajustes."
   ]
  },
  {
   "cell_type": "code",
   "execution_count": 56,
   "metadata": {},
   "outputs": [
    {
     "data": {
      "text/plain": [
       "id                     0\n",
       "FECHA_ARCHIVO          0\n",
       "ID_REGISTRO            0\n",
       "ENTIDAD_UM             0\n",
       "ENTIDAD_RES            0\n",
       "RESULTADO              0\n",
       "DELAY                  0\n",
       "ENTIDAD_REGISTRO       0\n",
       "ENTIDAD                0\n",
       "ABR_ENT                0\n",
       "FECHA_ACTUALIZACION    0\n",
       "ORIGEN                 0\n",
       "SECTOR                 0\n",
       "SEXO                   0\n",
       "ENTIDAD_NAC            0\n",
       "MUNICIPIO_RES          6\n",
       "TIPO_PACIENTE          0\n",
       "FECHA_INGRESO          0\n",
       "FECHA_SINTOMAS         0\n",
       "FECHA_DEF              0\n",
       "INTUBADO               0\n",
       "NEUMONIA               0\n",
       "EDAD                   0\n",
       "NACIONALIDAD           0\n",
       "EMBARAZO               0\n",
       "HABLA_LENGUA_INDIG     0\n",
       "DIABETES               0\n",
       "EPOC                   0\n",
       "ASMA                   0\n",
       "INMUSUPR               0\n",
       "HIPERTENSION           0\n",
       "OTRA_COM               0\n",
       "CARDIOVASCULAR         0\n",
       "OBESIDAD               0\n",
       "RENAL_CRONICA          0\n",
       "TABAQUISMO             0\n",
       "OTRO_CASO              0\n",
       "MIGRANTE               0\n",
       "PAIS_NACIONALIDAD      0\n",
       "PAIS_ORIGEN            0\n",
       "UCI                    0\n",
       "dtype: int64"
      ]
     },
     "execution_count": 56,
     "metadata": {},
     "output_type": "execute_result"
    }
   ],
   "source": [
    "df.isnull().sum()"
   ]
  },
  {
   "cell_type": "code",
   "execution_count": 57,
   "metadata": {},
   "outputs": [
    {
     "data": {
      "text/html": [
       "<div>\n",
       "<style scoped>\n",
       "    .dataframe tbody tr th:only-of-type {\n",
       "        vertical-align: middle;\n",
       "    }\n",
       "\n",
       "    .dataframe tbody tr th {\n",
       "        vertical-align: top;\n",
       "    }\n",
       "\n",
       "    .dataframe thead th {\n",
       "        text-align: right;\n",
       "    }\n",
       "</style>\n",
       "<table border=\"1\" class=\"dataframe\">\n",
       "  <thead>\n",
       "    <tr style=\"text-align: right;\">\n",
       "      <th></th>\n",
       "      <th>id</th>\n",
       "      <th>FECHA_ARCHIVO</th>\n",
       "      <th>ID_REGISTRO</th>\n",
       "      <th>ENTIDAD_UM</th>\n",
       "      <th>ENTIDAD_RES</th>\n",
       "      <th>RESULTADO</th>\n",
       "      <th>DELAY</th>\n",
       "      <th>ENTIDAD_REGISTRO</th>\n",
       "      <th>ENTIDAD</th>\n",
       "      <th>ABR_ENT</th>\n",
       "      <th>...</th>\n",
       "      <th>OTRA_COM</th>\n",
       "      <th>CARDIOVASCULAR</th>\n",
       "      <th>OBESIDAD</th>\n",
       "      <th>RENAL_CRONICA</th>\n",
       "      <th>TABAQUISMO</th>\n",
       "      <th>OTRO_CASO</th>\n",
       "      <th>MIGRANTE</th>\n",
       "      <th>PAIS_NACIONALIDAD</th>\n",
       "      <th>PAIS_ORIGEN</th>\n",
       "      <th>UCI</th>\n",
       "    </tr>\n",
       "  </thead>\n",
       "  <tbody>\n",
       "    <tr>\n",
       "      <th>0</th>\n",
       "      <td>9269</td>\n",
       "      <td>2020-04-12</td>\n",
       "      <td>00011f</td>\n",
       "      <td>25</td>\n",
       "      <td>25</td>\n",
       "      <td>2</td>\n",
       "      <td>0</td>\n",
       "      <td>25</td>\n",
       "      <td>Sinaloa</td>\n",
       "      <td>SL</td>\n",
       "      <td>...</td>\n",
       "      <td>2</td>\n",
       "      <td>2</td>\n",
       "      <td>1</td>\n",
       "      <td>2</td>\n",
       "      <td>2</td>\n",
       "      <td>2</td>\n",
       "      <td>99</td>\n",
       "      <td>MÃ©xico</td>\n",
       "      <td>97</td>\n",
       "      <td>97</td>\n",
       "    </tr>\n",
       "    <tr>\n",
       "      <th>1</th>\n",
       "      <td>33333</td>\n",
       "      <td>2020-04-12</td>\n",
       "      <td>00014e</td>\n",
       "      <td>14</td>\n",
       "      <td>14</td>\n",
       "      <td>2</td>\n",
       "      <td>0</td>\n",
       "      <td>14</td>\n",
       "      <td>Jalisco</td>\n",
       "      <td>JC</td>\n",
       "      <td>...</td>\n",
       "      <td>2</td>\n",
       "      <td>2</td>\n",
       "      <td>1</td>\n",
       "      <td>2</td>\n",
       "      <td>1</td>\n",
       "      <td>99</td>\n",
       "      <td>99</td>\n",
       "      <td>MÃ©xico</td>\n",
       "      <td>97</td>\n",
       "      <td>2</td>\n",
       "    </tr>\n",
       "    <tr>\n",
       "      <th>2</th>\n",
       "      <td>35483</td>\n",
       "      <td>2020-04-12</td>\n",
       "      <td>000153</td>\n",
       "      <td>8</td>\n",
       "      <td>8</td>\n",
       "      <td>1</td>\n",
       "      <td>0</td>\n",
       "      <td>8</td>\n",
       "      <td>Chihuahua</td>\n",
       "      <td>CH</td>\n",
       "      <td>...</td>\n",
       "      <td>2</td>\n",
       "      <td>2</td>\n",
       "      <td>2</td>\n",
       "      <td>2</td>\n",
       "      <td>2</td>\n",
       "      <td>99</td>\n",
       "      <td>99</td>\n",
       "      <td>MÃ©xico</td>\n",
       "      <td>97</td>\n",
       "      <td>2</td>\n",
       "    </tr>\n",
       "    <tr>\n",
       "      <th>3</th>\n",
       "      <td>7062</td>\n",
       "      <td>2020-04-12</td>\n",
       "      <td>0001b6</td>\n",
       "      <td>9</td>\n",
       "      <td>15</td>\n",
       "      <td>1</td>\n",
       "      <td>0</td>\n",
       "      <td>9</td>\n",
       "      <td>Ciudad de Mexico</td>\n",
       "      <td>DF</td>\n",
       "      <td>...</td>\n",
       "      <td>2</td>\n",
       "      <td>2</td>\n",
       "      <td>1</td>\n",
       "      <td>2</td>\n",
       "      <td>2</td>\n",
       "      <td>99</td>\n",
       "      <td>99</td>\n",
       "      <td>MÃ©xico</td>\n",
       "      <td>97</td>\n",
       "      <td>97</td>\n",
       "    </tr>\n",
       "    <tr>\n",
       "      <th>4</th>\n",
       "      <td>23745</td>\n",
       "      <td>2020-04-12</td>\n",
       "      <td>0001c1</td>\n",
       "      <td>9</td>\n",
       "      <td>9</td>\n",
       "      <td>2</td>\n",
       "      <td>0</td>\n",
       "      <td>9</td>\n",
       "      <td>Ciudad de Mexico</td>\n",
       "      <td>DF</td>\n",
       "      <td>...</td>\n",
       "      <td>2</td>\n",
       "      <td>2</td>\n",
       "      <td>2</td>\n",
       "      <td>2</td>\n",
       "      <td>2</td>\n",
       "      <td>99</td>\n",
       "      <td>99</td>\n",
       "      <td>MÃ©xico</td>\n",
       "      <td>97</td>\n",
       "      <td>97</td>\n",
       "    </tr>\n",
       "    <tr>\n",
       "      <th>...</th>\n",
       "      <td>...</td>\n",
       "      <td>...</td>\n",
       "      <td>...</td>\n",
       "      <td>...</td>\n",
       "      <td>...</td>\n",
       "      <td>...</td>\n",
       "      <td>...</td>\n",
       "      <td>...</td>\n",
       "      <td>...</td>\n",
       "      <td>...</td>\n",
       "      <td>...</td>\n",
       "      <td>...</td>\n",
       "      <td>...</td>\n",
       "      <td>...</td>\n",
       "      <td>...</td>\n",
       "      <td>...</td>\n",
       "      <td>...</td>\n",
       "      <td>...</td>\n",
       "      <td>...</td>\n",
       "      <td>...</td>\n",
       "      <td>...</td>\n",
       "    </tr>\n",
       "    <tr>\n",
       "      <th>263002</th>\n",
       "      <td>7094887</td>\n",
       "      <td>2020-06-03</td>\n",
       "      <td>1e019c</td>\n",
       "      <td>32</td>\n",
       "      <td>32</td>\n",
       "      <td>1</td>\n",
       "      <td>0</td>\n",
       "      <td>32</td>\n",
       "      <td>Zacatecas</td>\n",
       "      <td>ZS</td>\n",
       "      <td>...</td>\n",
       "      <td>2</td>\n",
       "      <td>2</td>\n",
       "      <td>2</td>\n",
       "      <td>2</td>\n",
       "      <td>2</td>\n",
       "      <td>1</td>\n",
       "      <td>99</td>\n",
       "      <td>MÃ©xico</td>\n",
       "      <td>99</td>\n",
       "      <td>97</td>\n",
       "    </tr>\n",
       "    <tr>\n",
       "      <th>263003</th>\n",
       "      <td>7053721</td>\n",
       "      <td>2020-06-03</td>\n",
       "      <td>1e2b05</td>\n",
       "      <td>12</td>\n",
       "      <td>12</td>\n",
       "      <td>1</td>\n",
       "      <td>0</td>\n",
       "      <td>12</td>\n",
       "      <td>Guerrero</td>\n",
       "      <td>GR</td>\n",
       "      <td>...</td>\n",
       "      <td>2</td>\n",
       "      <td>2</td>\n",
       "      <td>1</td>\n",
       "      <td>2</td>\n",
       "      <td>2</td>\n",
       "      <td>99</td>\n",
       "      <td>99</td>\n",
       "      <td>MÃ©xico</td>\n",
       "      <td>99</td>\n",
       "      <td>2</td>\n",
       "    </tr>\n",
       "    <tr>\n",
       "      <th>263004</th>\n",
       "      <td>7055429</td>\n",
       "      <td>2020-06-03</td>\n",
       "      <td>1e473f</td>\n",
       "      <td>20</td>\n",
       "      <td>20</td>\n",
       "      <td>1</td>\n",
       "      <td>0</td>\n",
       "      <td>20</td>\n",
       "      <td>Oaxaca</td>\n",
       "      <td>OC</td>\n",
       "      <td>...</td>\n",
       "      <td>2</td>\n",
       "      <td>2</td>\n",
       "      <td>2</td>\n",
       "      <td>1</td>\n",
       "      <td>2</td>\n",
       "      <td>99</td>\n",
       "      <td>99</td>\n",
       "      <td>MÃ©xico</td>\n",
       "      <td>99</td>\n",
       "      <td>2</td>\n",
       "    </tr>\n",
       "    <tr>\n",
       "      <th>263005</th>\n",
       "      <td>7043768</td>\n",
       "      <td>2020-06-03</td>\n",
       "      <td>1e6da1</td>\n",
       "      <td>13</td>\n",
       "      <td>13</td>\n",
       "      <td>1</td>\n",
       "      <td>0</td>\n",
       "      <td>13</td>\n",
       "      <td>Hidalgo</td>\n",
       "      <td>HG</td>\n",
       "      <td>...</td>\n",
       "      <td>2</td>\n",
       "      <td>2</td>\n",
       "      <td>2</td>\n",
       "      <td>2</td>\n",
       "      <td>2</td>\n",
       "      <td>2</td>\n",
       "      <td>99</td>\n",
       "      <td>MÃ©xico</td>\n",
       "      <td>99</td>\n",
       "      <td>2</td>\n",
       "    </tr>\n",
       "    <tr>\n",
       "      <th>263006</th>\n",
       "      <td>7093277</td>\n",
       "      <td>2020-06-03</td>\n",
       "      <td>1e8453</td>\n",
       "      <td>9</td>\n",
       "      <td>9</td>\n",
       "      <td>1</td>\n",
       "      <td>0</td>\n",
       "      <td>9</td>\n",
       "      <td>Ciudad de Mexico</td>\n",
       "      <td>DF</td>\n",
       "      <td>...</td>\n",
       "      <td>2</td>\n",
       "      <td>2</td>\n",
       "      <td>2</td>\n",
       "      <td>2</td>\n",
       "      <td>2</td>\n",
       "      <td>2</td>\n",
       "      <td>99</td>\n",
       "      <td>MÃ©xico</td>\n",
       "      <td>99</td>\n",
       "      <td>97</td>\n",
       "    </tr>\n",
       "  </tbody>\n",
       "</table>\n",
       "<p>263001 rows × 41 columns</p>\n",
       "</div>"
      ],
      "text/plain": [
       "             id FECHA_ARCHIVO ID_REGISTRO  ENTIDAD_UM  ENTIDAD_RES  RESULTADO  \\\n",
       "0          9269    2020-04-12      00011f          25           25          2   \n",
       "1         33333    2020-04-12      00014e          14           14          2   \n",
       "2         35483    2020-04-12      000153           8            8          1   \n",
       "3          7062    2020-04-12      0001b6           9           15          1   \n",
       "4         23745    2020-04-12      0001c1           9            9          2   \n",
       "...         ...           ...         ...         ...          ...        ...   \n",
       "263002  7094887    2020-06-03      1e019c          32           32          1   \n",
       "263003  7053721    2020-06-03      1e2b05          12           12          1   \n",
       "263004  7055429    2020-06-03      1e473f          20           20          1   \n",
       "263005  7043768    2020-06-03      1e6da1          13           13          1   \n",
       "263006  7093277    2020-06-03      1e8453           9            9          1   \n",
       "\n",
       "        DELAY  ENTIDAD_REGISTRO           ENTIDAD ABR_ENT  ... OTRA_COM  \\\n",
       "0           0                25           Sinaloa      SL  ...        2   \n",
       "1           0                14           Jalisco      JC  ...        2   \n",
       "2           0                 8         Chihuahua      CH  ...        2   \n",
       "3           0                 9  Ciudad de Mexico      DF  ...        2   \n",
       "4           0                 9  Ciudad de Mexico      DF  ...        2   \n",
       "...       ...               ...               ...     ...  ...      ...   \n",
       "263002      0                32         Zacatecas      ZS  ...        2   \n",
       "263003      0                12          Guerrero      GR  ...        2   \n",
       "263004      0                20            Oaxaca      OC  ...        2   \n",
       "263005      0                13           Hidalgo      HG  ...        2   \n",
       "263006      0                 9  Ciudad de Mexico      DF  ...        2   \n",
       "\n",
       "        CARDIOVASCULAR  OBESIDAD  RENAL_CRONICA  TABAQUISMO  OTRO_CASO  \\\n",
       "0                    2         1              2           2          2   \n",
       "1                    2         1              2           1         99   \n",
       "2                    2         2              2           2         99   \n",
       "3                    2         1              2           2         99   \n",
       "4                    2         2              2           2         99   \n",
       "...                ...       ...            ...         ...        ...   \n",
       "263002               2         2              2           2          1   \n",
       "263003               2         1              2           2         99   \n",
       "263004               2         2              1           2         99   \n",
       "263005               2         2              2           2          2   \n",
       "263006               2         2              2           2          2   \n",
       "\n",
       "        MIGRANTE PAIS_NACIONALIDAD PAIS_ORIGEN UCI  \n",
       "0             99           MÃ©xico          97  97  \n",
       "1             99           MÃ©xico          97   2  \n",
       "2             99           MÃ©xico          97   2  \n",
       "3             99           MÃ©xico          97  97  \n",
       "4             99           MÃ©xico          97  97  \n",
       "...          ...               ...         ...  ..  \n",
       "263002        99           MÃ©xico          99  97  \n",
       "263003        99           MÃ©xico          99   2  \n",
       "263004        99           MÃ©xico          99   2  \n",
       "263005        99           MÃ©xico          99   2  \n",
       "263006        99           MÃ©xico          99  97  \n",
       "\n",
       "[263001 rows x 41 columns]"
      ]
     },
     "execution_count": 57,
     "metadata": {},
     "output_type": "execute_result"
    }
   ],
   "source": [
    "df = df.dropna()\n",
    "df"
   ]
  },
  {
   "cell_type": "code",
   "execution_count": 58,
   "metadata": {},
   "outputs": [],
   "source": [
    "excluded = ['id', 'ID_REGISTRO',\n",
    "     'FECHA_ARCHIVO', 'FECHA_ACTUALIZACION', 'FECHA_DEF', 'FECHA_INGRESO','FECHA_SINTOMAS',\n",
    "     'ABR_ENT', 'ENTIDAD', 'MIGRANTE', 'NACIONALIDAD', 'ORIGEN', 'PAIS_NACIONALIDAD', 'PAIS_ORIGEN',\n",
    "     'INTUBADO', 'UCI', 'DIABETES', 'HIPERTENSION', 'NEUMONIA', 'ASMA', 'OBESIDAD', 'RENAL_CRONICA', 'TABAQUISMO',\n",
    "           'EMBARAZO', 'OTRO_CASO', 'CARDIOVASCULAR', 'OTRA_COM','EPOC', 'DELAY', 'ENTIDAD_UM', 'MUNICIPIO_RES', 'TIPO_PACIENTE', 'ENTIDAD_NAC',\n",
    "           'ENTIDAD_RES']\n",
    "\n",
    "df = df.drop(excluded, axis = 1)"
   ]
  },
  {
   "cell_type": "code",
   "execution_count": 59,
   "metadata": {},
   "outputs": [
    {
     "data": {
      "text/plain": [
       "Index(['RESULTADO', 'ENTIDAD_REGISTRO', 'SECTOR', 'SEXO', 'EDAD',\n",
       "       'HABLA_LENGUA_INDIG', 'INMUSUPR'],\n",
       "      dtype='object')"
      ]
     },
     "execution_count": 59,
     "metadata": {},
     "output_type": "execute_result"
    }
   ],
   "source": [
    "df.columns"
   ]
  },
  {
   "cell_type": "code",
   "execution_count": 60,
   "metadata": {},
   "outputs": [
    {
     "name": "stdout",
     "output_type": "stream",
     "text": [
      "RESULTADO\n",
      "[2 1]\n",
      "ENTIDAD_REGISTRO\n",
      "[25 14  8  9 19 17 27 15  5 28 11 24 31  2 21 32 13  3 26 16 30  1 10 12\n",
      " 20 29 18  7 22 23  6  4]\n",
      "SECTOR\n",
      "[12  4  5  9  3  6 13 11 10  2  8  7  1 99]\n",
      "SEXO\n",
      "[2 1]\n",
      "EDAD\n",
      "[ 74  71  50  25  28  67  44  62  30  32  53  39  42  45  23  36   8  29\n",
      "  34  15  35  47  19   1  26  27  61  64  63  21  41  55  43  70  37  40\n",
      "  31  60  81  33  46  38  13  65   2  24  99  52  59  48  17  72  54  22\n",
      "  20   4   7  49  18  82  84  56  57  51  73  58   0  78   5  77  11  75\n",
      "   3  12  89  69   6  66  76  68  83  95  86  80  14  10  16  91  90  98\n",
      "  85  87  79   9  88 102  93  94  96  92 100  97 101 107 109 113 110 120\n",
      " 105 103 114 108 106 111 104 118 115]\n",
      "HABLA_LENGUA_INDIG\n",
      "[ 2  1 99]\n",
      "INMUSUPR\n",
      "[ 2  1 98]\n"
     ]
    }
   ],
   "source": [
    "for column in df.columns:\n",
    "    print(column)\n",
    "    print(df[column].unique())"
   ]
  },
  {
   "cell_type": "code",
   "execution_count": 77,
   "metadata": {},
   "outputs": [
    {
     "data": {
      "text/plain": [
       "RESULTADO                0\n",
       "ENTIDAD_REGISTRO         0\n",
       "SECTOR                1285\n",
       "SEXO                     0\n",
       "EDAD                     0\n",
       "HABLA_LENGUA_INDIG    7025\n",
       "INMUSUPR              1038\n",
       "dtype: int64"
      ]
     },
     "execution_count": 77,
     "metadata": {},
     "output_type": "execute_result"
    }
   ],
   "source": [
    "df[\"ENTIDAD_REGISTRO\"] = df[\"ENTIDAD_REGISTRO\"].replace(99, np.NaN)\n",
    "df[\"HABLA_LENGUA_INDIG\"] = df[\"HABLA_LENGUA_INDIG\"].replace(99, np.NaN)\n",
    "df[\"INMUSUPR\"] = df[\"INMUSUPR\"].replace(98, np.NaN)\n",
    "df[\"SECTOR\"] = df[\"SECTOR\"].replace(99, np.NaN)\n",
    "df.isnull().sum()"
   ]
  },
  {
   "cell_type": "code",
   "execution_count": 85,
   "metadata": {},
   "outputs": [],
   "source": [
    "df = df.dropna()"
   ]
  },
  {
   "cell_type": "code",
   "execution_count": 86,
   "metadata": {},
   "outputs": [
    {
     "name": "stdout",
     "output_type": "stream",
     "text": [
      "RESULTADO\n",
      "[2 1]\n",
      "ENTIDAD_REGISTRO\n",
      "[25 14  8  9 19 17 27 15  5 28 11 24 31  2 21 32 13  3 26 16 30  1 10 12\n",
      " 20 29 18  7 22 23  6  4]\n",
      "SECTOR\n",
      "[12.  4.  5.  9.  3.  6. 13. 11. 10.  2.  8.  7.  1.]\n",
      "SEXO\n",
      "[2 1]\n",
      "EDAD\n",
      "[ 74  71  50  25  28  67  44  62  30  32  53  39  42  45  23  36   8  29\n",
      "  34  15  35  47  19   1  26  27  61  64  63  21  41  55  43  70  37  40\n",
      "  31  60  81  33  46  38  13  65   2  24  99  52  59  48  17  72  54  22\n",
      "  20   4   7  49  18  82  84  56  57  51  73  58   0  78   5  77  11  75\n",
      "   3  12  89  69   6  66  76  68  83  95  86  80  14  10  16  91  90  98\n",
      "  85  87  79   9  88 102  93  94  96  92 100  97 101 107 109 113 110 120\n",
      " 105 103 114 108 106 111 104 118 115]\n",
      "HABLA_LENGUA_INDIG\n",
      "[2. 1.]\n",
      "INMUSUPR\n",
      "[2. 1.]\n"
     ]
    }
   ],
   "source": [
    "for column in df.columns:\n",
    "    print(column)\n",
    "    print(df[column].unique())"
   ]
  },
  {
   "cell_type": "code",
   "execution_count": 87,
   "metadata": {},
   "outputs": [
    {
     "data": {
      "text/plain": [
       "array([[<AxesSubplot:title={'center':'EDAD'}>,\n",
       "        <AxesSubplot:title={'center':'ENTIDAD_REGISTRO'}>,\n",
       "        <AxesSubplot:title={'center':'HABLA_LENGUA_INDIG'}>],\n",
       "       [<AxesSubplot:title={'center':'INMUSUPR'}>,\n",
       "        <AxesSubplot:title={'center':'RESULTADO'}>,\n",
       "        <AxesSubplot:title={'center':'SECTOR'}>],\n",
       "       [<AxesSubplot:title={'center':'SEXO'}>, <AxesSubplot:>,\n",
       "        <AxesSubplot:>]], dtype=object)"
      ]
     },
     "execution_count": 87,
     "metadata": {},
     "output_type": "execute_result"
    },
    {
     "data": {
      "image/png": "[encoded data removed]",
      "text/plain": [
       "<Figure size 432x288 with 9 Axes>"
      ]
     },
     "metadata": {
      "needs_background": "light"
     },
     "output_type": "display_data"
    }
   ],
   "source": [
    "df.hist()"
   ]
  },
  {
   "cell_type": "code",
   "execution_count": 88,
   "metadata": {},
   "outputs": [
    {
     "data": {
      "image/png": "[encoded data removed]",
      "text/plain": [
       "<Figure size 432x288 with 2 Axes>"
      ]
     },
     "metadata": {
      "needs_background": "light"
     },
     "output_type": "display_data"
    }
   ],
   "source": [
    "corrMatrix = df.corr()\n",
    "sns.heatmap(corrMatrix, annot=True)\n",
    "plt.show()"
   ]
  },
  {
   "cell_type": "code",
   "execution_count": 89,
   "metadata": {},
   "outputs": [],
   "source": [
    "X = df.drop(\"RESULTADO\", axis = 1)\n",
    "y = df[\"RESULTADO\"]"
   ]
  },
  {
   "cell_type": "code",
   "execution_count": 90,
   "metadata": {},
   "outputs": [],
   "source": [
    "X_train, X_test, y_train, y_test = train_test_split(X, y, test_size=0.2, random_state=1)"
   ]
  },
  {
   "cell_type": "markdown",
   "metadata": {},
   "source": [
    "# Método 1: Árbol"
   ]
  },
  {
   "cell_type": "markdown",
   "metadata": {},
   "source": [
    "Realizado por: Mauricio"
   ]
  },
  {
   "cell_type": "markdown",
   "metadata": {},
   "source": [
    "El modelo de árbol de decisión es uno de los más usados en machine learning. Consiste en una representación descendiente de un diagrama de flujo que consta de diferentes \"ramas\" y nodos, los cuales representan los distintos atributos del conjunto de datos, así como las decisiones que tomarán conforme se avance en él. En la parte superior del árbol, se encuentra un único nodo al que denominamos \"nodo raíz\", el cual usualmente es el atributo \"más importante\" o aquel que tenga un papel más relevante que los demás sobre la característica objetivo.\n",
    "\n",
    "De cada nodo brotan ramas, las cuales son los \"caminos\" que una entrada de datos puede seguir para ser clasificada en una categoría, cada rama tiene una condición que se puede cumplir o no, la cual está determinada en función de los parámetros de la base de datos. Esta estructura continúa hasta que se alcanzan los últimos nodos, los cuales denominamos \"hojas\", y representan la decisión final de clasificación, es decir, son el \"output\" del árbol, pues indican directamente a qué categoría ha sido asignada un objeto directamente.\n",
    "\n",
    "Conforme se avanza en las ramas, los datos se dividen en subconjuntos de si mismos cada vez más pequeños, los cuales se van \"limpiando\" poco a poco, con el fin de lograr una clasificación precisa.\n",
    "\n",
    "Para asegurar que los atributos correctos han sido seleccionados, se pueden utilizar distintas métricas estadísticas, tales como la impureza de Gini o la entropía. La primera de ellas, representa cuan a menudo puede ser un elemento clasificado de forma incorrecta con respecto a los otros parámetros de ese subconjunto específico, cuando el coeficiente de Gini alcanza un valor de cero, decimos que ese nodo es \"puro\" con lo cual hemos eliminado completamente el error de clasificación, y es calculado de la siguiente manera:\n",
    "\n",
    "$I_G(f) = \\displaystyle 1-\\sum_{i=1}^{m} f_{i}^{2}$\n",
    "\n",
    "Por otra parte, la entropía es una métricada usualmente utilizada en física para medir el \"nivel de desorden\" dentro de un sistema. En palabras más formales, la entropía mide cuán aleatorios son los eventos que suceden dentro de un ambiente. Para medir la entropía del sistema entero, se usa la siguiente expresión:\n",
    "\n",
    "$H(X)=\\displaystyle\\sum_{i}^{n} p_{i} \\log \\left(1 / p_{i}\\right)$\n",
    "\n",
    "Existen otras métricas para poder medir la impureza de un nodo en un árbol de decisión, sin embargo, la matemática detrás de ellos es muy compleja. Los aquí presentados son conceptos simples de entender y de aplicar.\n",
    "\n",
    "Como se puede ver a continuación, el árbol de decisión ajustado para los datos que utilizamos, apenas tuvo un 0.63 de puntuación de precisión, lo cual es bastante bajo para la cantidad de datos con la que se alimentó al modelo (la base de datos entera tenía más de 200,000 entradas), y estamos seguros de que eso se debe en general a la poca correlación que existe entre las variables que conforman la base de datos, pues impide el reconocimiento de patrones que ayuden a la clasificación de nuevas entradas.\n",
    "\n",
    "Como un extra, también se añade una pequeña visualización del diagrama de árbol que representa al modelo."
   ]
  },
  {
   "cell_type": "code",
   "execution_count": 99,
   "metadata": {},
   "outputs": [
    {
     "name": "stdout",
     "output_type": "stream",
     "text": [
      "Accuracy: 0.6364729064039409\n"
     ]
    }
   ],
   "source": [
    "dtree = tree.DecisionTreeClassifier(max_depth=6)\n",
    "dtree = dtree.fit(X_train,y_train)\n",
    "\n",
    "y_pred = dtree.predict(X_test)\n",
    "print(\"Accuracy:\", metrics.accuracy_score(y_test, y_pred))"
   ]
  },
  {
   "cell_type": "code",
   "execution_count": 100,
   "metadata": {},
   "outputs": [
    {
     "data": {
      "image/png": "[encoded data removed]",
      "text/plain": [
       "<Figure size 1200x1200 with 1 Axes>"
      ]
     },
     "metadata": {
      "needs_background": "light"
     },
     "output_type": "display_data"
    }
   ],
   "source": [
    "feature_names = ['ENTIDAD_REGISTRO', 'SECTOR', 'SEXO', 'EDAD',\n",
    "       'HABLA_LENGUA_INDIG', 'INMUSUPR']\n",
    "target_names = ['1', '2']\n",
    "\n",
    "fig, axes = plt.subplots(nrows = 1,ncols = 1,figsize = (4,4), dpi=300)\n",
    "\n",
    "tree.plot_tree(dtree, filled=True,\n",
    "                          feature_names=feature_names,\n",
    "                          class_names=target_names)\n",
    "\n",
    "fig.savefig('imagename5.png')"
   ]
  },
  {
   "cell_type": "markdown",
   "metadata": {},
   "source": [
    "# Método 2: SVM"
   ]
  },
  {
   "cell_type": "markdown",
   "metadata": {},
   "source": [
    "Realizado por: Bárbara"
   ]
  },
  {
   "cell_type": "markdown",
   "metadata": {},
   "source": []
  },
  {
   "cell_type": "code",
   "execution_count": 103,
   "metadata": {},
   "outputs": [
    {
     "name": "stdout",
     "output_type": "stream",
     "text": [
      "Accuracy: 0.48102463054187194\n"
     ]
    }
   ],
   "source": [
    "svclassifier = SVC(kernel='sigmoid')\n",
    "svclassifier.fit(X_train, y_train)\n",
    "\n",
    "y_pred = svclassifier.predict(X_test)\n",
    "print(\"Accuracy:\", metrics.accuracy_score(y_test, y_pred))"
   ]
  },
  {
   "cell_type": "markdown",
   "metadata": {},
   "source": [
    "# Método 3: RNN (SKLEARN)"
   ]
  },
  {
   "cell_type": "markdown",
   "metadata": {},
   "source": [
    "Realizado por: Mauricio"
   ]
  },
  {
   "cell_type": "markdown",
   "metadata": {},
   "source": [
    "Una red neuronal es un modelo de aprendizaje automático que está inspirado en el funcionamiento del cerebro de los seres vivos, más particularmente de nostros, los seres humanos. La idea en general es bastante simple, una serie de neuronas conectadas entre sí que sean capaces de trabajar conjuntamente para poder ver y \"aprender\" de los datos, de tal forma que, al final de dicha red, el sistema sea capáz de otorgar una respuesta. Las redes neuronales son usualmente utilizadas como clasificadores, aunque también pueden ser usadas como regresores en ciertos casos. \n",
    "\n",
    "La composición de una red neuronal es también bastante simple. De forma similar a la de una árbol de decisión, vemos que existen dos elementos principales, nodos y conexiones; cada nodo equivale a una neurona artificial, y cada línea representa la conexión entre una neurona y otra. Las redes neuronales usualmente se ordenan en forma de \"capas\", las cuales son conjuntos de neuronas que NO están conectadas entre sí, sino que actúan como una especie de puente de procesamiento de información entre la capa anterior y la siguiente. \n",
    "\n",
    "La primera capa o \"entrada\" son el conjunto de neuronas que reciben los datos en bruto, sin ningún tipo de procesamiento. La única función de estas neuronas de entrada es la de pasar la información hacia la capa posterior, que forma parte de lo que denominamos \"capas ocultas\" que es donde todo el procesamiento de toma de decisiones se realiza. Finalmente, la última capa oculta activa las neuronas de salida, las cuales entregan el resultado final de la clasificación.\n",
    "\n",
    "A diferencia del árbol de decisión que tiene una estructura de diagrama de flujo, y que se basa en codiciones si/no, la red neuronal está distribuída en forma de grafo ponderado, por lo que usualmente resulta ser más compleja y más eficiente. Las capas ocultas de una red neuronal tienen una serie de valores adjuntos a las conexiones de las neuronas a las que denominamos \"pesos\", por los cuales se multiplica el valor de salida de la neurona anterior, lo cual ajusta el resultado y permite que se siga el \"camino correcto\" dentro de la red, para así garantizar una clasificación precisa. Estos valores son usualmente procesados por un componente propio de cada neurona, el cual se denomina como \"función de activación\" la cual modifica el valor recibido e impone condiciones que determinarán si la neurona se \"enciende\" o no. Es importante destacar que la asignación de los pesos no es artificial, sino que se ajusta dentro de la propia red neuronal y la grán mayoría de las veces es imposible explicar el proceso de razonamiento que tuvo el sistema para asignar cada poderación en la forma en la que lo hizo, por eso es que las denominamos como \"capas ocultas\" o como \"caja negra\", ya que realmente no sabemos con precisión qué es lo que sucede ahí, contrario a un arbol de decisión por ejemplo.\n",
    "\n",
    "Las redes neuronales han probado ser esenciales cuando se necesita identificar patrones complejos dentro de los datos, y su eficiencia aumenta proporcionalmente a la cantidad de datos que se le provea, pues su base de conocimientos será más amplia y podrá deducir más características.\n",
    "\n",
    "Existen varios algoritmos para la optimización en la asignación de pesos, en este caso específico, utilizamos el algorimo 'adam' y 'lbfgs'. Como podemos ver, tuvieron una precisión de 0.64 y 0.62 respectivamente, también variamos la cantidad de neuronas en las capas ocultas. "
   ]
  },
  {
   "cell_type": "code",
   "execution_count": 101,
   "metadata": {},
   "outputs": [
    {
     "name": "stdout",
     "output_type": "stream",
     "text": [
      "Accuracy: 0.648847290640394\n"
     ]
    }
   ],
   "source": [
    "neural = MLPClassifier(solver='adam', alpha=1e-5,hidden_layer_sizes=(24,36), random_state=1)\n",
    "neural = neural.fit(X_train, y_train)\n",
    "\n",
    "y_pred = neural.predict(X_test)\n",
    "print(\"Accuracy:\", metrics.accuracy_score(y_test, y_pred))"
   ]
  },
  {
   "cell_type": "markdown",
   "metadata": {},
   "source": [
    "# Método 4: RNN 2"
   ]
  },
  {
   "cell_type": "markdown",
   "metadata": {},
   "source": [
    "Realizado por: Bárbara"
   ]
  },
  {
   "cell_type": "code",
   "execution_count": null,
   "metadata": {},
   "outputs": [],
   "source": []
  },
  {
   "cell_type": "code",
   "execution_count": 104,
   "metadata": {},
   "outputs": [
    {
     "name": "stdout",
     "output_type": "stream",
     "text": [
      "Accuracy: 0.6236650246305419\n"
     ]
    }
   ],
   "source": [
    "rnn = MLPClassifier(solver='lbfgs', alpha=1e-5, hidden_layer_sizes=(58,36), random_state=1)\n",
    "rnn.fit(X_train, y_train)\n",
    "\n",
    "y_pred = rnn.predict(X_test)\n",
    "print(\"Accuracy:\", metrics.accuracy_score(y_test, y_pred))"
   ]
  },
  {
   "cell_type": "markdown",
   "metadata": {},
   "source": [
    "# Método 5: K-Nearest Neighbors"
   ]
  },
  {
   "cell_type": "markdown",
   "metadata": {},
   "source": [
    "Realizado por: Mauricio"
   ]
  },
  {
   "cell_type": "markdown",
   "metadata": {},
   "source": [
    "El algoritmo de K-Vecinos más Cercanos (o KNN por sus siglas en inglés) es un modelo de aprendizaje supervisado en machine learning que sirve para clasificar entradas de datos en categorías definidas.\n",
    "\n",
    "El concepto del algoritmo KNN es realmente simple. Dado un punto que represente una entrada de datos, el algoritmo identifica cuales son los registros conocidos similares a esa nueva entrada; esto lo hace por medio del cálculo de la distancia entre el punto objetivo y sus \"vecinos\", es decir, aquellos objetos que se encuentren más cercanos a él.\n",
    "\n",
    "Una vez la distancia se ha calculado, se hace una \"votación\" para la cual se toma en cuenta la clasificación (ya conocida) de esos K-Vecinos, y por eliminación, el punto nuevo se asigna a la clase que gane la votación por mayoría. Es importante destacar que $k$ usualmente debe definirse como un número impar para evitar un empate al momento de decidir la clase mayoritaria. Por ejemplo, en caso de $k = 4$, podría darse el caso de que 2 elementos pertenezcan a la clase 1 y 2 elementos pertenezcan a la clase 2, lo cual supondría un problema al momento de clasificar el punto. Mientras que si $k$ no es divisible entre 2, se garantiza que siempre habrá una clase mayoritaria.\n",
    "\n",
    "Es un algoritmo bastante sencillo y que no calcula parámetros, sino que directamente busca similitudes entre los datos por medio de sus distancias como ya se había mencionado. Estas distancias pueden ser calculadas de 3 formas distintas:\n",
    "\n",
    "Distancia Euclidiana:\n",
    "\n",
    "$D =\\displaystyle\\sqrt{\\sum_{i=1}^{n}\\left(y_{i}-x_{i}\\right)^{2}}$\n",
    "\n",
    "Distancia Manhattan:\n",
    "\n",
    "$|D =\\displaystyle\\sum_{i=1}^{d}\\left|a_{i}-b_{i}\\right|$\n",
    "\n",
    "Distancia Minkowski:\n",
    "\n",
    "$D=\\displaystyle\\left(\\sum_{i=1}^{n} \\mid \\mathrm{p}_{\\boldsymbol{i}}-\\mathrm{q}_{\\boldsymbol{i}}^{\\mathrm{p}}\\right)^{1 / \\mathrm{p}}$\n",
    "\n",
    "Este es un algoritmo que, si bien es simple, puede resultar inconveniente, puesto que el tiempo de cálculo de distancias se vuelve demasiado grande para conjuntos de datos suficientemente grandes. En este caso específico, con una base de datos de más de 200,000 entradas, el modelo tardó aproximadamente 35 minutos en realizar las predicciones, por lo que es necesario hacer ajustes a las dimensiones de los datos. Además, debido a la necesidad de tener los datos disponibles en todo momento para calcular los K-Vecinos, no puede ser usado para hacer predicciones en tiempo real"
   ]
  },
  {
   "cell_type": "code",
   "execution_count": 102,
   "metadata": {},
   "outputs": [
    {
     "name": "stdout",
     "output_type": "stream",
     "text": [
      "Accuracy: 0.6298128078817734\n"
     ]
    }
   ],
   "source": [
    "KNN = KNeighborsClassifier()\n",
    "KNN = KNN.fit(X_train, y_train)\n",
    "\n",
    "y_pred = KNN.predict(X_test)\n",
    "print(\"Accuracy:\", metrics.accuracy_score(y_test, y_pred))"
   ]
  },
  {
   "cell_type": "markdown",
   "metadata": {},
   "source": [
    "# Método 6: Clasificador Naive-Bayes"
   ]
  },
  {
   "cell_type": "markdown",
   "metadata": {},
   "source": [
    "Realizado por: Bárbara"
   ]
  },
  {
   "cell_type": "code",
   "execution_count": null,
   "metadata": {},
   "outputs": [],
   "source": []
  },
  {
   "cell_type": "code",
   "execution_count": 105,
   "metadata": {},
   "outputs": [
    {
     "name": "stdout",
     "output_type": "stream",
     "text": [
      "Accuracy: 0.6251428571428571\n"
     ]
    }
   ],
   "source": [
    "naivBay = GaussianNB()\n",
    "naivBay.fit(X_train, y_train)\n",
    "y_pred = naivBay.predict(X_test)\n",
    "print(\"Accuracy:\", metrics.accuracy_score(y_test, y_pred))"
   ]
  },
  {
   "cell_type": "code",
   "execution_count": null,
   "metadata": {},
   "outputs": [],
   "source": []
  }
 ],
 "metadata": {
  "kernelspec": {
   "display_name": "Python 3",
   "language": "python",
   "name": "python3"
  },
  "language_info": {
   "codemirror_mode": {
    "name": "ipython",
    "version": 3
   },
   "file_extension": ".py",
   "mimetype": "text/x-python",
   "name": "python",
   "nbconvert_exporter": "python",
   "pygments_lexer": "ipython3",
   "version": "3.8.5"
  }
 },
 "nbformat": 4,
 "nbformat_minor": 4
}
